{
 "cells": [
  {
   "cell_type": "code",
   "execution_count": 1,
   "metadata": {},
   "outputs": [
    {
     "name": "stdout",
     "output_type": "stream",
     "text": [
      "Equilibrium-core version = 1.95\n",
      "default resource folders:\n",
      "C:\\data\\Dave\\Public\\DAVE\\src\\DAVE\\resources\n",
      "C:\\Users\\beneden\\DAVE_models\n",
      "C:\\data\\Dave\\Public\\DAVE\\docs\\examples\n",
      "Blender found at: C:\\Program Files\\Blender Foundation\\Blender 2.93\\blender.exe\n"
     ]
    }
   ],
   "source": [
    "from DAVE import *\n",
    "from DAVE.jupyter import *"
   ]
  },
  {
   "cell_type": "code",
   "execution_count": 2,
   "metadata": {
    "pycharm": {
     "name": "#%%\n"
    }
   },
   "outputs": [],
   "source": [
    "s = Scene()\n",
    "s.new_point('test',position = (0,0,0))\n",
    "\n",
    "\n",
    "node = s.new_rigidbody('demo')\n",
    "p = s.new_point('test2',position = (1,0,0), parent = node)\n",
    "\n"
   ]
  },
  {
   "cell_type": "code",
   "execution_count": 3,
   "outputs": [
    {
     "data": {
      "text/plain": "<IPython.core.display.HTML object>",
      "text/html": "<table align=\"left\" border=\"1\"><caption>Properties of test2</caption><tr><th style=\"text-align:left\">Property</th><th style=\"text-align:left\">Value</th><th style=\"text-align:left\">Unit</th><th style=\"text-align:left\">Remarks</th><th style=\"text-align:left\">Explained</th></tr><tr><td style=\"text-align:left\">name</td><td style=\"text-align:left\">test2</td><td style=\"text-align:left\"></td><td style=\"text-align:left\">str</td><td style=\"text-align:left\">Name of the node , must be unique</td></tr><tr><td style=\"text-align:left\">name</td><td style=\"text-align:left\">test2</td><td style=\"text-align:left\"></td><td style=\"text-align:left\">str</td><td style=\"text-align:left\">Name of the node , must be unique</td></tr><tr><td style=\"text-align:left\">parent</td><td style=\"text-align:left\">demo</td><td style=\"text-align:left\"></td><td style=\"text-align:left\"></td><td style=\"text-align:left\">Determines the parent of the node. Should be an axis or None</td></tr><tr><td style=\"text-align:left\">x</td><td style=\"text-align:left\">1.000</td><td style=\"text-align:left\">m</td><td style=\"text-align:left\">parent axis</td><td style=\"text-align:left\">x component of local position  </td></tr><tr><td style=\"text-align:left\">y</td><td style=\"text-align:left\">0.000</td><td style=\"text-align:left\">m</td><td style=\"text-align:left\">parent axis</td><td style=\"text-align:left\">y component of local position  </td></tr><tr><td style=\"text-align:left\">z</td><td style=\"text-align:left\">0.000</td><td style=\"text-align:left\">m</td><td style=\"text-align:left\">parent axis</td><td style=\"text-align:left\">z component of local position  </td></tr><tr><td style=\"text-align:left\">position</td><td style=\"text-align:left\">(1.000,<br> 0.000,<br> 0.000 )</td><td style=\"text-align:left\">m,<br>m,<br>m</td><td style=\"text-align:left\">parent axis</td><td style=\"text-align:left\">Local position  </td></tr><tr><td style=\"text-align:left\">applied_force_and_moment_global</td><td style=\"text-align:left\">(0.000,<br> 0.000,<br> 0.000,<br> 0.000,<br> 0.000,<br> 0.000 )</td><td style=\"text-align:left\">kN,<br> kN,<br> kN,<br> kNm,<br> kNm,<br> kNm</td><td style=\"text-align:left\">Global axis</td><td style=\"text-align:left\">Applied force and moment on this point  </td></tr><tr><td style=\"text-align:left\">gx</td><td style=\"text-align:left\">1.000</td><td style=\"text-align:left\">m</td><td style=\"text-align:left\">global axis</td><td style=\"text-align:left\">x component of position  </td></tr><tr><td style=\"text-align:left\">gy</td><td style=\"text-align:left\">0.000</td><td style=\"text-align:left\">m</td><td style=\"text-align:left\">global axis</td><td style=\"text-align:left\">y component of position  </td></tr><tr><td style=\"text-align:left\">gz</td><td style=\"text-align:left\">0.000</td><td style=\"text-align:left\">m</td><td style=\"text-align:left\">global axis</td><td style=\"text-align:left\">z component of position  </td></tr><tr><td style=\"text-align:left\">global_position</td><td style=\"text-align:left\">(1.000,<br> 0.000,<br> 0.000 )</td><td style=\"text-align:left\">m,<br>m,<br>m</td><td style=\"text-align:left\">global axis</td><td style=\"text-align:left\">Global position  </td></tr></table><BR CLEAR=LEFT>"
     },
     "metadata": {},
     "output_type": "display_data"
    }
   ],
   "source": [
    "report(p)"
   ],
   "metadata": {
    "collapsed": false,
    "pycharm": {
     "name": "#%%\n"
    }
   }
  },
  {
   "cell_type": "code",
   "execution_count": 4,
   "outputs": [
    {
     "data": {
      "text/plain": "<IPython.core.display.HTML object>",
      "text/html": "<table align=\"left\" border=\"1\"><caption>Properties of demo</caption><tr><th style=\"text-align:left\">Property</th><th style=\"text-align:left\">Value</th><th style=\"text-align:left\">Unit</th><th style=\"text-align:left\">Remarks</th><th style=\"text-align:left\">Explained</th></tr><tr><td style=\"text-align:left\">connection_force_x</td><td style=\"text-align:left\">0.000</td><td style=\"text-align:left\">kN</td><td style=\"text-align:left\">Parent axis</td><td style=\"text-align:left\">The x-component of the connection-force vector  </td></tr><tr><td style=\"text-align:left\">connection_force_y</td><td style=\"text-align:left\">0.000</td><td style=\"text-align:left\">kN</td><td style=\"text-align:left\">Parent axis</td><td style=\"text-align:left\">The y-component of the connection-force vector  </td></tr><tr><td style=\"text-align:left\">connection_force_z</td><td style=\"text-align:left\">0.000</td><td style=\"text-align:left\">kN</td><td style=\"text-align:left\">Parent axis</td><td style=\"text-align:left\">The z-component of the connection-force vector  </td></tr></table><BR CLEAR=LEFT>"
     },
     "metadata": {},
     "output_type": "display_data"
    }
   ],
   "source": [
    "properties = ['*force??','moment']\n",
    "short = True\n",
    "\n",
    "report(node, properties)"
   ],
   "metadata": {
    "collapsed": false,
    "pycharm": {
     "name": "#%%\n"
    }
   }
  },
  {
   "cell_type": "code",
   "execution_count": 5,
   "outputs": [
    {
     "data": {
      "text/plain": "<IPython.core.display.HTML object>",
      "text/html": "<table align=\"left\" border=\"1\"><caption>Properties of demo</caption><tr><th style=\"text-align:left\">Property</th><th style=\"text-align:left\">Value</th><th style=\"text-align:left\">Unit</th><th style=\"text-align:left\">Remarks</th><th style=\"text-align:left\">Explained</th></tr><tr><td style=\"text-align:left\">position</td><td style=\"text-align:left\">(0.000,<br> 0.000,<br> 0.000 )</td><td style=\"text-align:left\">m,<br>m,<br>m</td><td style=\"text-align:left\">parent axis</td><td style=\"text-align:left\">Position of the axis  </td></tr></table><BR CLEAR=LEFT>"
     },
     "metadata": {},
     "output_type": "display_data"
    }
   ],
   "source": [
    "report(node,['position*'])"
   ],
   "metadata": {
    "collapsed": false,
    "pycharm": {
     "name": "#%%\n"
    }
   }
  },
  {
   "cell_type": "code",
   "execution_count": 5,
   "outputs": [],
   "source": [
    "\n"
   ],
   "metadata": {
    "collapsed": false,
    "pycharm": {
     "name": "#%%\n"
    }
   }
  }
 ],
 "metadata": {
  "kernelspec": {
   "display_name": "PyCharm (virtual-float)",
   "language": "python",
   "name": "pycharm-ce3fab7"
  },
  "language_info": {
   "codemirror_mode": {
    "name": "ipython",
    "version": 3
   },
   "file_extension": ".py",
   "mimetype": "text/x-python",
   "name": "python",
   "nbconvert_exporter": "python",
   "pygments_lexer": "ipython3",
   "version": "3.7.4"
  }
 },
 "nbformat": 4,
 "nbformat_minor": 4
}