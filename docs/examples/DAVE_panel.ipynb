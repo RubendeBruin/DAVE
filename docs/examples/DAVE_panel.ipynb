{
 "cells": [
  {
   "cell_type": "code",
   "execution_count": 1,
   "metadata": {},
   "outputs": [
    {
     "name": "stdout",
     "output_type": "stream",
     "text": [
      "Equilibrium-core version = 1.95\n",
      "default resource folders:\n",
      "C:\\data\\Dave\\Public\\DAVE\\src\\DAVE\\resources\n",
      "C:\\Users\\beneden\\DAVE_models\n",
      "C:\\data\\Dave\\Public\\DAVE\\docs\\examples\n",
      "Blender found at: C:\\Program Files\\Blender Foundation\\Blender 2.93\\blender.exe\n"
     ]
    }
   ],
   "source": [
    "from DAVE import *\n"
   ]
  },
  {
   "cell_type": "code",
   "execution_count": 2,
   "metadata": {},
   "outputs": [
    {
     "data": {
      "text/plain": "poi <Point>"
     },
     "execution_count": 2,
     "metadata": {},
     "output_type": "execute_result"
    }
   ],
   "source": [
    "s = Scene()\n",
    "s.new_axis('origin',position = (0,0,0))\n",
    "s.new_axis('test',position = (1,2,3))\n",
    "s.new_axis('test2',position = (1,2,6))\n",
    "s.new_point('poi',position = (3,3,0))"
   ]
  },
  {
   "cell_type": "code",
   "execution_count": null,
   "outputs": [],
   "source": [
    "from DAVE.jupyter import show\n"
   ],
   "metadata": {
    "collapsed": false,
    "pycharm": {
     "name": "#%%\n",
     "is_executing": true
    }
   }
  },
  {
   "cell_type": "code",
   "execution_count": null,
   "metadata": {
    "pycharm": {
     "name": "#%%\n",
     "is_executing": true
    }
   },
   "outputs": [],
   "source": [
    "show(s)"
   ]
  },
  {
   "cell_type": "code",
   "execution_count": null,
   "outputs": [],
   "source": [],
   "metadata": {
    "collapsed": false,
    "pycharm": {
     "name": "#%%\n",
     "is_executing": true
    }
   }
  }
 ],
 "metadata": {
  "kernelspec": {
   "name": "pycharm-ce3fab7",
   "language": "python",
   "display_name": "PyCharm (virtual-float)"
  },
  "language_info": {
   "codemirror_mode": {
    "name": "ipython",
    "version": 3
   },
   "file_extension": ".py",
   "mimetype": "text/x-python",
   "name": "python",
   "nbconvert_exporter": "python",
   "pygments_lexer": "ipython3",
   "version": "3.7.4"
  }
 },
 "nbformat": 4,
 "nbformat_minor": 4
}